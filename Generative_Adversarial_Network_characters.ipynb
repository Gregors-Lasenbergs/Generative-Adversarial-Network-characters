{
 "cells": [
  {
   "cell_type": "code",
   "id": "initial_id",
   "metadata": {
    "collapsed": true,
    "ExecuteTime": {
     "end_time": "2024-05-24T15:41:39.430166Z",
     "start_time": "2024-05-24T15:41:39.426927Z"
    }
   },
   "source": [
    "import random\n",
    "from typing import Tuple\n",
    "\n",
    "import numpy as np\n",
    "import torch\n",
    "import torch.nn as nn\n",
    "import torch.optim as optim\n",
    "\n",
    "from PIL import Image\n",
    "from IPython.display import display\n",
    "from torch.utils.data import Dataset, DataLoader"
   ],
   "outputs": [],
   "execution_count": 3
  },
  {
   "metadata": {
    "ExecuteTime": {
     "end_time": "2024-05-24T15:41:40.682786Z",
     "start_time": "2024-05-24T15:41:40.677518Z"
    }
   },
   "cell_type": "code",
   "source": [
    "random.seed(69)\n",
    "np.random.seed(69)\n",
    "torch.manual_seed(69)\n",
    "\n",
    "if torch.cuda.is_available():\n",
    "    torch.cuda.manual_seed_all(69)\n",
    "\n",
    "device = torch.device(\"cpu\")"
   ],
   "id": "6e5ba9f0a9ac6b6b",
   "outputs": [],
   "execution_count": 4
  },
  {
   "metadata": {
    "ExecuteTime": {
     "end_time": "2024-05-24T15:41:41.678124Z",
     "start_time": "2024-05-24T15:41:41.675283Z"
    }
   },
   "cell_type": "code",
   "source": [
    "from torchvision.transforms import Resize, InterpolationMode\n",
    "\n",
    "resizer = Resize((256, 256), interpolation=InterpolationMode.NEAREST_EXACT)"
   ],
   "id": "9a41104c812fa372",
   "outputs": [],
   "execution_count": 5
  },
  {
   "metadata": {
    "ExecuteTime": {
     "end_time": "2024-05-24T15:41:43.482487Z",
     "start_time": "2024-05-24T15:41:43.470627Z"
    }
   },
   "cell_type": "code",
   "source": [
    "gbc_ndarray = np.load(\"gbc_dataset.npy\")\n",
    "\n",
    "class GBCDataset(Dataset):\n",
    "    \"\"\"\n",
    "    Implement gameboy character dataset (GBCDataset) class.\n",
    "\n",
    "    Attributes:\n",
    "        dat (np.ndarray): Data.\n",
    "        dev (str): Device.\n",
    "    \"\"\"\n",
    "    def __init__(self, data, device):\n",
    "        \"\"\"\n",
    "        Instantiate GBCDataset class.\n",
    "\n",
    "        Args:\n",
    "            data (np.ndarray): Data.\n",
    "            device (str): Device.\n",
    "        \"\"\"\n",
    "        self.dat = data\n",
    "        self.dev = device\n",
    "\n",
    "    def __len__(self):\n",
    "        \"\"\"\n",
    "        Get dataset cardinality.\n",
    "\n",
    "        Returns:\n",
    "            int: Dataset cardinality.\n",
    "        \"\"\"\n",
    "        return self.dat.shape[0]\n",
    "\n",
    "    def __getitem__(self, index):\n",
    "        \"\"\"\n",
    "        Get dataset element.\n",
    "\n",
    "        Args:\n",
    "            index (int): Index.\n",
    "\n",
    "        Returns:\n",
    "            torch.Tensor: Dataset element.\n",
    "        \"\"\"\n",
    "        return torch.from_numpy(self.dat[index].astype(np.float32) / 127.5 - 1.0).to(self.dev)\n",
    "\n",
    "gbc_dataset = GBCDataset(gbc_ndarray, device)\n",
    "gbc_data_loader = DataLoader(gbc_dataset, 26, True)"
   ],
   "id": "b3de45e134b1c9db",
   "outputs": [],
   "execution_count": 6
  },
  {
   "metadata": {
    "ExecuteTime": {
     "end_time": "2024-05-24T15:41:44.856834Z",
     "start_time": "2024-05-24T15:41:44.844272Z"
    }
   },
   "cell_type": "code",
   "source": [
    "from torchvision.transforms import Resize, InterpolationMode\n",
    "from tqdm import tqdm\n",
    "\n",
    "resizer = Resize((256, 256), interpolation=InterpolationMode.NEAREST_EXACT)\n",
    "\n",
    "class GBCGAN:\n",
    "    def __init__(self, device: str = \"cuda\") -> None:\n",
    "        \"\"\"\n",
    "        Instantiate GBCGAN class.\n",
    "        \n",
    "        Args:\n",
    "            device (str): Device.\n",
    "        \"\"\"\n",
    "        self.dev = device\n",
    "        self._dis_net, self._dis_opt = self._get_discriminator()\n",
    "        self._gen_net, self._gen_opt = self._get_generator()\n",
    "        self._lat_dim = self._gen_net[0].in_channels\n",
    "        self._los_fun = nn.BCELoss()\n",
    "\n",
    "    def _get_discriminator(self) -> Tuple[nn.Sequential, optim.Optimizer]:\n",
    "        network = nn.Sequential(\n",
    "            nn.Conv2d(1, 16, 4, 2, 1, bias=False),\n",
    "            nn.BatchNorm2d(16),\n",
    "            nn.LeakyReLU(0.2),\n",
    "            nn.Conv2d(16, 32, 4, 2, 1, bias=False),\n",
    "            nn.BatchNorm2d(32),\n",
    "            nn.LeakyReLU(0.2),\n",
    "            nn.Conv2d(32, 1, 4, 1, 0, bias=False),\n",
    "            nn.Sigmoid()\n",
    "        ).to(self.dev)\n",
    "\n",
    "        optimiser = optim.Adam(network.parameters(), lr=0.0002, betas=(0.5, 0.999))\n",
    "\n",
    "        return network, optimiser\n",
    "\n",
    "    def _get_generator(self) -> Tuple[nn.Sequential, optim.Optimizer]:\n",
    "        network = nn.Sequential(\n",
    "            nn.ConvTranspose2d(64, 32, 4, 1, 0, bias=False),\n",
    "            nn.BatchNorm2d(32),\n",
    "            nn.ReLU(),\n",
    "            nn.ConvTranspose2d(32, 16, 4, 2, 1, bias=False),\n",
    "            nn.BatchNorm2d(16),\n",
    "            nn.ReLU(),\n",
    "            nn.ConvTranspose2d(16, 1, 4, 2, 1, bias=False),\n",
    "            nn.Tanh()\n",
    "        ).to(self.dev)\n",
    "\n",
    "        optimiser = optim.Adam(network.parameters(), lr=0.0002, betas=(0.5, 0.999))\n",
    "\n",
    "        return network, optimiser\n",
    "\n",
    "    def generate_images(self, batch_size):\n",
    "        random_latents = torch.randn(batch_size, self._lat_dim, 1, 1, device=self.dev)\n",
    "        temp_images = self._gen_net(random_latents)\n",
    "        fake_images = Image.new(\"L\", (16 * batch_size, 16))\n",
    "\n",
    "        for i in range(batch_size):\n",
    "            fake_images.paste(Image.fromarray(np.squeeze((127.5 * (temp_images[i].cpu().detach().numpy().transpose(1, 2, 0) + 1.0)).astype(np.uint8))), (16 * i, 0))\n",
    "\n",
    "        return fake_images\n",
    "\n",
    "\n",
    "    def train(self, gbc_data_loader: DataLoader, epoch_number: int=1) -> None:\n",
    "        \"\"\"\n",
    "        Train discriminator network and generator network.\n",
    "\n",
    "        Args:\n",
    "            gbc_data_loader (DataLoader): GBC data loader.\n",
    "            epoch_number (int): Epochs number.\n",
    "        \"\"\"\n",
    "        self._dis_net.train()\n",
    "        self._gen_net.train()\n",
    "\n",
    "        for epoch in range(epoch_number):\n",
    "            discriminator_losses = []\n",
    "            generator_losses = []\n",
    "\n",
    "            for real_images in tqdm(gbc_data_loader):\n",
    "                \n",
    "                # Train discriminator\n",
    "\n",
    "                random_latents = torch.randn(real_images.size(0), self._lat_dim, 1, 1, device=self.dev)\n",
    "                fake_images = self._gen_net(random_latents)\n",
    "                fake_probs = self._dis_net(fake_images)\n",
    "                fake_labels = torch.zeros_like(fake_probs)\n",
    "\n",
    "                real_probs = self._dis_net(real_images)\n",
    "                real_labels = torch.ones_like(real_probs)\n",
    "\n",
    "                discriminator_loss = self._los_fun(fake_probs, fake_labels) + self._los_fun(real_probs, real_labels)\n",
    "                self._dis_opt.zero_grad()\n",
    "                discriminator_loss.backward()\n",
    "                self._dis_opt.step()\n",
    "\n",
    "                discriminator_losses.append(discriminator_loss.item())\n",
    "                \n",
    "                # Train generator\n",
    "\n",
    "                random_latents = torch.randn(real_images.size(0), self._lat_dim, 1, 1, device=self.dev)\n",
    "                fake_images =  self._gen_net(random_latents)\n",
    "                fake_probs = self._dis_net(fake_images)\n",
    "                real_labels = torch.ones_like(fake_probs)\n",
    "\n",
    "                generator_loss = self._los_fun(fake_probs, real_labels)\n",
    "                self._gen_opt.zero_grad()\n",
    "                generator_loss.backward()\n",
    "                self._gen_opt.step()\n",
    "\n",
    "                generator_losses.append(generator_loss.item())\n",
    "\n",
    "            print(f\"Epoch: [{epoch + 1}/{epoch_number}]\")\n",
    "            print(f\"Discriminator loss: {np.mean(discriminator_losses):.4f}\")\n",
    "            print(f\"Generator loss: {np.mean(generator_losses):.4f}\")\n",
    "            image = self.generate_images(1)\n",
    "            image_resized = resizer(image)\n",
    "            display(image_resized)\n",
    "            image_resized.save(f\"images/epoch{epoch+1}.png\")\n",
    "\n",
    "        self._dis_net.eval()\n",
    "        self._gen_net.eval()\n",
    "gbc_gan = GBCGAN(device)"
   ],
   "id": "955b6adefcd536dc",
   "outputs": [],
   "execution_count": 7
  },
  {
   "metadata": {
    "ExecuteTime": {
     "end_time": "2024-05-24T16:36:28.986897Z",
     "start_time": "2024-05-24T15:41:45.645105Z"
    }
   },
   "cell_type": "code",
   "source": "gbc_gan.train(gbc_data_loader, 40)",
   "id": "c7555bb1dfe22243",
   "outputs": [
    {
     "name": "stderr",
     "output_type": "stream",
     "text": [
      "100%|██████████| 7134/7134 [01:31<00:00, 77.71it/s]"
     ]
    },
    {
     "name": "stdout",
     "output_type": "stream",
     "text": [
      "Epoch: [1/40]\n",
      "Discriminator loss: 0.1041\n",
      "Generator loss: 4.6502\n"
     ]
    },
    {
     "name": "stderr",
     "output_type": "stream",
     "text": [
      "\n"
     ]
    },
    {
     "data": {
      "text/plain": [
       "<PIL.Image.Image image mode=L size=256x256>"
      ],
      "image/png": "[encoded data removed]",
      "image/jpeg": "[encoded data removed]"
     },
     "metadata": {},
     "output_type": "display_data"
    },
    {
     "name": "stderr",
     "output_type": "stream",
     "text": [
      "100%|██████████| 7134/7134 [01:27<00:00, 81.15it/s]"
     ]
    },
    {
     "name": "stdout",
     "output_type": "stream",
     "text": [
      "Epoch: [2/40]\n",
      "Discriminator loss: 0.0217\n",
      "Generator loss: 7.0487\n"
     ]
    },
    {
     "name": "stderr",
     "output_type": "stream",
     "text": [
      "\n"
     ]
    },
    {
     "data": {
      "text/plain": [
       "<PIL.Image.Image image mode=L size=256x256>"
      ],
      "image/png": "[encoded data removed]",
      "image/jpeg": "[encoded data removed]"
     },
     "metadata": {},
     "output_type": "display_data"
    },
    {
     "name": "stderr",
     "output_type": "stream",
     "text": [
      "100%|██████████| 7134/7134 [01:27<00:00, 81.50it/s]"
     ]
    },
    {
     "name": "stdout",
     "output_type": "stream",
     "text": [
      "Epoch: [3/40]\n",
      "Discriminator loss: 0.0184\n",
      "Generator loss: 7.9888\n"
     ]
    },
    {
     "name": "stderr",
     "output_type": "stream",
     "text": [
      "\n"
     ]
    },
    {
     "data": {
      "text/plain": [
       "<PIL.Image.Image image mode=L size=256x256>"
      ],
      "image/png": "[encoded data removed]",
      "image/jpeg": "[encoded data removed]"
     },
     "metadata": {},
     "output_type": "display_data"
    },
    {
     "name": "stderr",
     "output_type": "stream",
     "text": [
      "100%|██████████| 7134/7134 [01:27<00:00, 81.59it/s]"
     ]
    },
    {
     "name": "stdout",
     "output_type": "stream",
     "text": [
      "Epoch: [4/40]\n",
      "Discriminator loss: 0.0150\n",
      "Generator loss: 8.5200\n"
     ]
    },
    {
     "name": "stderr",
     "output_type": "stream",
     "text": [
      "\n"
     ]
    },
    {
     "data": {
      "text/plain": [
       "<PIL.Image.Image image mode=L size=256x256>"
      ],
      "image/png": "[encoded data removed]",
      "image/jpeg": "[encoded data removed]"
     },
     "metadata": {},
     "output_type": "display_data"
    },
    {
     "name": "stderr",
     "output_type": "stream",
     "text": [
      "100%|██████████| 7134/7134 [01:25<00:00, 83.01it/s]"
     ]
    },
    {
     "name": "stdout",
     "output_type": "stream",
     "text": [
      "Epoch: [5/40]\n",
      "Discriminator loss: 0.0179\n",
      "Generator loss: 8.7116\n"
     ]
    },
    {
     "name": "stderr",
     "output_type": "stream",
     "text": [
      "\n"
     ]
    },
    {
     "data": {
      "text/plain": [
       "<PIL.Image.Image image mode=L size=256x256>"
      ],
      "image/png": "[encoded data removed]",
      "image/jpeg": "[encoded data removed]"
     },
     "metadata": {},
     "output_type": "display_data"
    },
    {
     "name": "stderr",
     "output_type": "stream",
     "text": [
      "100%|██████████| 7134/7134 [01:28<00:00, 80.31it/s]"
     ]
    },
    {
     "name": "stdout",
     "output_type": "stream",
     "text": [
      "Epoch: [6/40]\n",
      "Discriminator loss: 0.0115\n",
      "Generator loss: 9.2363\n"
     ]
    },
    {
     "name": "stderr",
     "output_type": "stream",
     "text": [
      "\n"
     ]
    },
    {
     "data": {
      "text/plain": [
       "<PIL.Image.Image image mode=L size=256x256>"
      ],
      "image/png": "[encoded data removed]",
      "image/jpeg": "[encoded data removed]"
     },
     "metadata": {},
     "output_type": "display_data"
    },
    {
     "name": "stderr",
     "output_type": "stream",
     "text": [
      "100%|██████████| 7134/7134 [01:27<00:00, 81.54it/s]"
     ]
    },
    {
     "name": "stdout",
     "output_type": "stream",
     "text": [
      "Epoch: [7/40]\n",
      "Discriminator loss: 0.0141\n",
      "Generator loss: 9.4204\n"
     ]
    },
    {
     "name": "stderr",
     "output_type": "stream",
     "text": [
      "\n"
     ]
    },
    {
     "data": {
      "text/plain": [
       "<PIL.Image.Image image mode=L size=256x256>"
      ],
      "image/png": "[encoded data removed]",
      "image/jpeg": "[encoded data removed]"
     },
     "metadata": {},
     "output_type": "display_data"
    },
    {
     "name": "stderr",
     "output_type": "stream",
     "text": [
      "100%|██████████| 7134/7134 [01:29<00:00, 79.50it/s]"
     ]
    },
    {
     "name": "stdout",
     "output_type": "stream",
     "text": [
      "Epoch: [8/40]\n",
      "Discriminator loss: 0.0114\n",
      "Generator loss: 9.7690\n"
     ]
    },
    {
     "name": "stderr",
     "output_type": "stream",
     "text": [
      "\n"
     ]
    },
    {
     "data": {
      "text/plain": [
       "<PIL.Image.Image image mode=L size=256x256>"
      ],
      "image/png": "[encoded data removed]",
      "image/jpeg": "[encoded data removed]"
     },
     "metadata": {},
     "output_type": "display_data"
    },
    {
     "name": "stderr",
     "output_type": "stream",
     "text": [
      "100%|██████████| 7134/7134 [01:27<00:00, 81.66it/s]"
     ]
    },
    {
     "name": "stdout",
     "output_type": "stream",
     "text": [
      "Epoch: [9/40]\n",
      "Discriminator loss: 0.0125\n",
      "Generator loss: 9.9154\n"
     ]
    },
    {
     "name": "stderr",
     "output_type": "stream",
     "text": [
      "\n"
     ]
    },
    {
     "data": {
      "text/plain": [
       "<PIL.Image.Image image mode=L size=256x256>"
      ],
      "image/png": "[encoded data removed]",
      "image/jpeg": "[encoded data removed]"
     },
     "metadata": {},
     "output_type": "display_data"
    },
    {
     "name": "stderr",
     "output_type": "stream",
     "text": [
      "100%|██████████| 7134/7134 [01:28<00:00, 80.65it/s]"
     ]
    },
    {
     "name": "stdout",
     "output_type": "stream",
     "text": [
      "Epoch: [10/40]\n",
      "Discriminator loss: 0.0112\n",
      "Generator loss: 10.2916\n"
     ]
    },
    {
     "name": "stderr",
     "output_type": "stream",
     "text": [
      "\n"
     ]
    },
    {
     "data": {
      "text/plain": [
       "<PIL.Image.Image image mode=L size=256x256>"
      ],
      "image/png": "[encoded data removed]",
      "image/jpeg": "[encoded data removed]"
     },
     "metadata": {},
     "output_type": "display_data"
    },
    {
     "name": "stderr",
     "output_type": "stream",
     "text": [
      "100%|██████████| 7134/7134 [01:27<00:00, 81.24it/s]"
     ]
    },
    {
     "name": "stdout",
     "output_type": "stream",
     "text": [
      "Epoch: [11/40]\n",
      "Discriminator loss: 0.0124\n",
      "Generator loss: 10.2156\n"
     ]
    },
    {
     "name": "stderr",
     "output_type": "stream",
     "text": [
      "\n"
     ]
    },
    {
     "data": {
      "text/plain": [
       "<PIL.Image.Image image mode=L size=256x256>"
      ],
      "image/png": "[encoded data removed]",
      "image/jpeg": "[encoded data removed]"
     },
     "metadata": {},
     "output_type": "display_data"
    },
    {
     "name": "stderr",
     "output_type": "stream",
     "text": [
      "100%|██████████| 7134/7134 [01:23<00:00, 85.39it/s]"
     ]
    },
    {
     "name": "stdout",
     "output_type": "stream",
     "text": [
      "Epoch: [12/40]\n",
      "Discriminator loss: 0.0105\n",
      "Generator loss: 10.5013\n"
     ]
    },
    {
     "name": "stderr",
     "output_type": "stream",
     "text": [
      "\n"
     ]
    },
    {
     "data": {
      "text/plain": [
       "<PIL.Image.Image image mode=L size=256x256>"
      ],
      "image/png": "[encoded data removed]",
      "image/jpeg": "[encoded data removed]"
     },
     "metadata": {},
     "output_type": "display_data"
    },
    {
     "name": "stderr",
     "output_type": "stream",
     "text": [
      "100%|██████████| 7134/7134 [01:18<00:00, 90.70it/s]"
     ]
    },
    {
     "name": "stdout",
     "output_type": "stream",
     "text": [
      "Epoch: [13/40]\n",
      "Discriminator loss: 0.0100\n",
      "Generator loss: 10.5812\n"
     ]
    },
    {
     "name": "stderr",
     "output_type": "stream",
     "text": [
      "\n"
     ]
    },
    {
     "data": {
      "text/plain": [
       "<PIL.Image.Image image mode=L size=256x256>"
      ],
      "image/png": "[encoded data removed]",
      "image/jpeg": "[encoded data removed]"
     },
     "metadata": {},
     "output_type": "display_data"
    },
    {
     "name": "stderr",
     "output_type": "stream",
     "text": [
      "100%|██████████| 7134/7134 [01:18<00:00, 91.12it/s]"
     ]
    },
    {
     "name": "stdout",
     "output_type": "stream",
     "text": [
      "Epoch: [14/40]\n",
      "Discriminator loss: 0.0095\n",
      "Generator loss: 10.8227\n"
     ]
    },
    {
     "name": "stderr",
     "output_type": "stream",
     "text": [
      "\n"
     ]
    },
    {
     "data": {
      "text/plain": [
       "<PIL.Image.Image image mode=L size=256x256>"
      ],
      "image/png": "[encoded data removed]",
      "image/jpeg": "[encoded data removed]"
     },
     "metadata": {},
     "output_type": "display_data"
    },
    {
     "name": "stderr",
     "output_type": "stream",
     "text": [
      "100%|██████████| 7134/7134 [01:18<00:00, 90.75it/s]"
     ]
    },
    {
     "name": "stdout",
     "output_type": "stream",
     "text": [
      "Epoch: [15/40]\n",
      "Discriminator loss: 0.0072\n",
      "Generator loss: 10.9581\n"
     ]
    },
    {
     "name": "stderr",
     "output_type": "stream",
     "text": [
      "\n"
     ]
    },
    {
     "data": {
      "text/plain": [
       "<PIL.Image.Image image mode=L size=256x256>"
      ],
      "image/png": "[encoded data removed]",
      "image/jpeg": "[encoded data removed]"
     },
     "metadata": {},
     "output_type": "display_data"
    },
    {
     "name": "stderr",
     "output_type": "stream",
     "text": [
      "100%|██████████| 7134/7134 [01:20<00:00, 88.15it/s]"
     ]
    },
    {
     "name": "stdout",
     "output_type": "stream",
     "text": [
      "Epoch: [16/40]\n",
      "Discriminator loss: 0.0103\n",
      "Generator loss: 10.9288\n"
     ]
    },
    {
     "name": "stderr",
     "output_type": "stream",
     "text": [
      "\n"
     ]
    },
    {
     "data": {
      "text/plain": [
       "<PIL.Image.Image image mode=L size=256x256>"
      ],
      "image/png": "[encoded data removed]",
      "image/jpeg": "[encoded data removed]"
     },
     "metadata": {},
     "output_type": "display_data"
    },
    {
     "name": "stderr",
     "output_type": "stream",
     "text": [
      "100%|██████████| 7134/7134 [01:24<00:00, 84.39it/s]"
     ]
    },
    {
     "name": "stdout",
     "output_type": "stream",
     "text": [
      "Epoch: [17/40]\n",
      "Discriminator loss: 0.0100\n",
      "Generator loss: 11.0639\n"
     ]
    },
    {
     "name": "stderr",
     "output_type": "stream",
     "text": [
      "\n"
     ]
    },
    {
     "data": {
      "text/plain": [
       "<PIL.Image.Image image mode=L size=256x256>"
      ],
      "image/png": "[encoded data removed]",
      "image/jpeg": "[encoded data removed]"
     },
     "metadata": {},
     "output_type": "display_data"
    },
    {
     "name": "stderr",
     "output_type": "stream",
     "text": [
      "100%|██████████| 7134/7134 [01:21<00:00, 87.60it/s]"
     ]
    },
    {
     "name": "stdout",
     "output_type": "stream",
     "text": [
      "Epoch: [18/40]\n",
      "Discriminator loss: 0.0081\n",
      "Generator loss: 11.2549\n"
     ]
    },
    {
     "name": "stderr",
     "output_type": "stream",
     "text": [
      "\n"
     ]
    },
    {
     "data": {
      "text/plain": [
       "<PIL.Image.Image image mode=L size=256x256>"
      ],
      "image/png": "[encoded data removed]",
      "image/jpeg": "[encoded data removed]"
     },
     "metadata": {},
     "output_type": "display_data"
    },
    {
     "name": "stderr",
     "output_type": "stream",
     "text": [
      "100%|██████████| 7134/7134 [01:18<00:00, 91.35it/s]"
     ]
    },
    {
     "name": "stdout",
     "output_type": "stream",
     "text": [
      "Epoch: [19/40]\n",
      "Discriminator loss: 0.0077\n",
      "Generator loss: 11.4025\n"
     ]
    },
    {
     "name": "stderr",
     "output_type": "stream",
     "text": [
      "\n"
     ]
    },
    {
     "data": {
      "text/plain": [
       "<PIL.Image.Image image mode=L size=256x256>"
      ],
      "image/png": "[encoded data removed]",
      "image/jpeg": "[encoded data removed]"
     },
     "metadata": {},
     "output_type": "display_data"
    },
    {
     "name": "stderr",
     "output_type": "stream",
     "text": [
      "100%|██████████| 7134/7134 [01:19<00:00, 90.21it/s]"
     ]
    },
    {
     "name": "stdout",
     "output_type": "stream",
     "text": [
      "Epoch: [20/40]\n",
      "Discriminator loss: 0.0093\n",
      "Generator loss: 11.2760\n"
     ]
    },
    {
     "name": "stderr",
     "output_type": "stream",
     "text": [
      "\n"
     ]
    },
    {
     "data": {
      "text/plain": [
       "<PIL.Image.Image image mode=L size=256x256>"
      ],
      "image/png": "[encoded data removed]",
      "image/jpeg": "[encoded data removed]"
     },
     "metadata": {},
     "output_type": "display_data"
    },
    {
     "name": "stderr",
     "output_type": "stream",
     "text": [
      "100%|██████████| 7134/7134 [01:20<00:00, 88.99it/s]"
     ]
    },
    {
     "name": "stdout",
     "output_type": "stream",
     "text": [
      "Epoch: [21/40]\n",
      "Discriminator loss: 0.0081\n",
      "Generator loss: 11.5188\n"
     ]
    },
    {
     "name": "stderr",
     "output_type": "stream",
     "text": [
      "\n"
     ]
    },
    {
     "data": {
      "text/plain": [
       "<PIL.Image.Image image mode=L size=256x256>"
      ],
      "image/png": "[encoded data removed]",
      "image/jpeg": "[encoded data removed]"
     },
     "metadata": {},
     "output_type": "display_data"
    },
    {
     "name": "stderr",
     "output_type": "stream",
     "text": [
      "100%|██████████| 7134/7134 [01:18<00:00, 90.81it/s]"
     ]
    },
    {
     "name": "stdout",
     "output_type": "stream",
     "text": [
      "Epoch: [22/40]\n",
      "Discriminator loss: 0.0065\n",
      "Generator loss: 11.7845\n"
     ]
    },
    {
     "name": "stderr",
     "output_type": "stream",
     "text": [
      "\n"
     ]
    },
    {
     "data": {
      "text/plain": [
       "<PIL.Image.Image image mode=L size=256x256>"
      ],
      "image/png": "[encoded data removed]",
      "image/jpeg": "[encoded data removed]"
     },
     "metadata": {},
     "output_type": "display_data"
    },
    {
     "name": "stderr",
     "output_type": "stream",
     "text": [
      "100%|██████████| 7134/7134 [01:20<00:00, 88.47it/s]"
     ]
    },
    {
     "name": "stdout",
     "output_type": "stream",
     "text": [
      "Epoch: [23/40]\n",
      "Discriminator loss: 0.0073\n",
      "Generator loss: 11.7403\n"
     ]
    },
    {
     "name": "stderr",
     "output_type": "stream",
     "text": [
      "\n"
     ]
    },
    {
     "data": {
      "text/plain": [
       "<PIL.Image.Image image mode=L size=256x256>"
      ],
      "image/png": "[encoded data removed]",
      "image/jpeg": "[encoded data removed]"
     },
     "metadata": {},
     "output_type": "display_data"
    },
    {
     "name": "stderr",
     "output_type": "stream",
     "text": [
      "100%|██████████| 7134/7134 [01:20<00:00, 88.64it/s]"
     ]
    },
    {
     "name": "stdout",
     "output_type": "stream",
     "text": [
      "Epoch: [24/40]\n",
      "Discriminator loss: 0.0091\n",
      "Generator loss: 11.6658\n"
     ]
    },
    {
     "name": "stderr",
     "output_type": "stream",
     "text": [
      "\n"
     ]
    },
    {
     "data": {
      "text/plain": [
       "<PIL.Image.Image image mode=L size=256x256>"
      ],
      "image/png": "[encoded data removed]",
      "image/jpeg": "[encoded data removed]"
     },
     "metadata": {},
     "output_type": "display_data"
    },
    {
     "name": "stderr",
     "output_type": "stream",
     "text": [
      "100%|██████████| 7134/7134 [01:20<00:00, 88.96it/s]"
     ]
    },
    {
     "name": "stdout",
     "output_type": "stream",
     "text": [
      "Epoch: [25/40]\n",
      "Discriminator loss: 0.0070\n",
      "Generator loss: 12.0421\n"
     ]
    },
    {
     "name": "stderr",
     "output_type": "stream",
     "text": [
      "\n"
     ]
    },
    {
     "data": {
      "text/plain": [
       "<PIL.Image.Image image mode=L size=256x256>"
      ],
      "image/png": "[encoded data removed]",
      "image/jpeg": "[encoded data removed]"
     },
     "metadata": {},
     "output_type": "display_data"
    },
    {
     "name": "stderr",
     "output_type": "stream",
     "text": [
      "100%|██████████| 7134/7134 [01:19<00:00, 89.90it/s]"
     ]
    },
    {
     "name": "stdout",
     "output_type": "stream",
     "text": [
      "Epoch: [26/40]\n",
      "Discriminator loss: 0.0069\n",
      "Generator loss: 11.9635\n"
     ]
    },
    {
     "name": "stderr",
     "output_type": "stream",
     "text": [
      "\n"
     ]
    },
    {
     "data": {
      "text/plain": [
       "<PIL.Image.Image image mode=L size=256x256>"
      ],
      "image/png": "[encoded data removed]",
      "image/jpeg": "[encoded data removed]"
     },
     "metadata": {},
     "output_type": "display_data"
    },
    {
     "name": "stderr",
     "output_type": "stream",
     "text": [
      "100%|██████████| 7134/7134 [01:19<00:00, 89.80it/s]"
     ]
    },
    {
     "name": "stdout",
     "output_type": "stream",
     "text": [
      "Epoch: [27/40]\n",
      "Discriminator loss: 0.0081\n",
      "Generator loss: 12.1117\n"
     ]
    },
    {
     "name": "stderr",
     "output_type": "stream",
     "text": [
      "\n"
     ]
    },
    {
     "data": {
      "text/plain": [
       "<PIL.Image.Image image mode=L size=256x256>"
      ],
      "image/png": "[encoded data removed]",
      "image/jpeg": "[encoded data removed]"
     },
     "metadata": {},
     "output_type": "display_data"
    },
    {
     "name": "stderr",
     "output_type": "stream",
     "text": [
      "100%|██████████| 7134/7134 [01:20<00:00, 88.99it/s]"
     ]
    },
    {
     "name": "stdout",
     "output_type": "stream",
     "text": [
      "Epoch: [28/40]\n",
      "Discriminator loss: 0.0066\n",
      "Generator loss: 12.1791\n"
     ]
    },
    {
     "name": "stderr",
     "output_type": "stream",
     "text": [
      "\n"
     ]
    },
    {
     "data": {
      "text/plain": [
       "<PIL.Image.Image image mode=L size=256x256>"
      ],
      "image/png": "[encoded data removed]",
      "image/jpeg": "[encoded data removed]"
     },
     "metadata": {},
     "output_type": "display_data"
    },
    {
     "name": "stderr",
     "output_type": "stream",
     "text": [
      "100%|██████████| 7134/7134 [01:17<00:00, 91.80it/s]"
     ]
    },
    {
     "name": "stdout",
     "output_type": "stream",
     "text": [
      "Epoch: [29/40]\n",
      "Discriminator loss: 0.0060\n",
      "Generator loss: 12.4197\n"
     ]
    },
    {
     "name": "stderr",
     "output_type": "stream",
     "text": [
      "\n"
     ]
    },
    {
     "data": {
      "text/plain": [
       "<PIL.Image.Image image mode=L size=256x256>"
      ],
      "image/png": "[encoded data removed]",
      "image/jpeg": "[encoded data removed]"
     },
     "metadata": {},
     "output_type": "display_data"
    },
    {
     "name": "stderr",
     "output_type": "stream",
     "text": [
      "100%|██████████| 7134/7134 [01:18<00:00, 90.56it/s]"
     ]
    },
    {
     "name": "stdout",
     "output_type": "stream",
     "text": [
      "Epoch: [30/40]\n",
      "Discriminator loss: 0.0061\n",
      "Generator loss: 12.6237\n"
     ]
    },
    {
     "name": "stderr",
     "output_type": "stream",
     "text": [
      "\n"
     ]
    },
    {
     "data": {
      "text/plain": [
       "<PIL.Image.Image image mode=L size=256x256>"
      ],
      "image/png": "[encoded data removed]",
      "image/jpeg": "[encoded data removed]"
     },
     "metadata": {},
     "output_type": "display_data"
    },
    {
     "name": "stderr",
     "output_type": "stream",
     "text": [
      "100%|██████████| 7134/7134 [01:19<00:00, 89.94it/s]"
     ]
    },
    {
     "name": "stdout",
     "output_type": "stream",
     "text": [
      "Epoch: [31/40]\n",
      "Discriminator loss: 0.0062\n",
      "Generator loss: 12.2875\n"
     ]
    },
    {
     "name": "stderr",
     "output_type": "stream",
     "text": [
      "\n"
     ]
    },
    {
     "data": {
      "text/plain": [
       "<PIL.Image.Image image mode=L size=256x256>"
      ],
      "image/png": "[encoded data removed]",
      "image/jpeg": "[encoded data removed]"
     },
     "metadata": {},
     "output_type": "display_data"
    },
    {
     "name": "stderr",
     "output_type": "stream",
     "text": [
      "100%|██████████| 7134/7134 [01:19<00:00, 90.11it/s]"
     ]
    },
    {
     "name": "stdout",
     "output_type": "stream",
     "text": [
      "Epoch: [32/40]\n",
      "Discriminator loss: 0.0059\n",
      "Generator loss: 12.6293\n"
     ]
    },
    {
     "name": "stderr",
     "output_type": "stream",
     "text": [
      "\n"
     ]
    },
    {
     "data": {
      "text/plain": [
       "<PIL.Image.Image image mode=L size=256x256>"
      ],
      "image/png": "[encoded data removed]",
      "image/jpeg": "[encoded data removed]"
     },
     "metadata": {},
     "output_type": "display_data"
    },
    {
     "name": "stderr",
     "output_type": "stream",
     "text": [
      "100%|██████████| 7134/7134 [01:19<00:00, 89.36it/s]"
     ]
    },
    {
     "name": "stdout",
     "output_type": "stream",
     "text": [
      "Epoch: [33/40]\n",
      "Discriminator loss: 0.0064\n",
      "Generator loss: 12.6478\n"
     ]
    },
    {
     "name": "stderr",
     "output_type": "stream",
     "text": [
      "\n"
     ]
    },
    {
     "data": {
      "text/plain": [
       "<PIL.Image.Image image mode=L size=256x256>"
      ],
      "image/png": "[encoded data removed]",
      "image/jpeg": "[encoded data removed]"
     },
     "metadata": {},
     "output_type": "display_data"
    },
    {
     "name": "stderr",
     "output_type": "stream",
     "text": [
      "100%|██████████| 7134/7134 [01:20<00:00, 89.11it/s]"
     ]
    },
    {
     "name": "stdout",
     "output_type": "stream",
     "text": [
      "Epoch: [34/40]\n",
      "Discriminator loss: 0.0066\n",
      "Generator loss: 12.6209\n"
     ]
    },
    {
     "name": "stderr",
     "output_type": "stream",
     "text": [
      "\n"
     ]
    },
    {
     "data": {
      "text/plain": [
       "<PIL.Image.Image image mode=L size=256x256>"
      ],
      "image/png": "[encoded data removed]",
      "image/jpeg": "[encoded data removed]"
     },
     "metadata": {},
     "output_type": "display_data"
    },
    {
     "name": "stderr",
     "output_type": "stream",
     "text": [
      "100%|██████████| 7134/7134 [01:21<00:00, 87.76it/s]"
     ]
    },
    {
     "name": "stdout",
     "output_type": "stream",
     "text": [
      "Epoch: [35/40]\n",
      "Discriminator loss: 0.0063\n",
      "Generator loss: 12.4977\n"
     ]
    },
    {
     "name": "stderr",
     "output_type": "stream",
     "text": [
      "\n"
     ]
    },
    {
     "data": {
      "text/plain": [
       "<PIL.Image.Image image mode=L size=256x256>"
      ],
      "image/png": "[encoded data removed]",
      "image/jpeg": "[encoded data removed]"
     },
     "metadata": {},
     "output_type": "display_data"
    },
    {
     "name": "stderr",
     "output_type": "stream",
     "text": [
      "100%|██████████| 7134/7134 [01:18<00:00, 90.88it/s]"
     ]
    },
    {
     "name": "stdout",
     "output_type": "stream",
     "text": [
      "Epoch: [36/40]\n",
      "Discriminator loss: 0.0052\n",
      "Generator loss: 12.9814\n"
     ]
    },
    {
     "name": "stderr",
     "output_type": "stream",
     "text": [
      "\n"
     ]
    },
    {
     "data": {
      "text/plain": [
       "<PIL.Image.Image image mode=L size=256x256>"
      ],
      "image/png": "[encoded data removed]",
      "image/jpeg": "[encoded data removed]"
     },
     "metadata": {},
     "output_type": "display_data"
    },
    {
     "name": "stderr",
     "output_type": "stream",
     "text": [
      "100%|██████████| 7134/7134 [01:17<00:00, 91.57it/s]"
     ]
    },
    {
     "name": "stdout",
     "output_type": "stream",
     "text": [
      "Epoch: [37/40]\n",
      "Discriminator loss: 0.0070\n",
      "Generator loss: 12.8503\n"
     ]
    },
    {
     "name": "stderr",
     "output_type": "stream",
     "text": [
      "\n"
     ]
    },
    {
     "data": {
      "text/plain": [
       "<PIL.Image.Image image mode=L size=256x256>"
      ],
      "image/png": "[encoded data removed]",
      "image/jpeg": "[encoded data removed]"
     },
     "metadata": {},
     "output_type": "display_data"
    },
    {
     "name": "stderr",
     "output_type": "stream",
     "text": [
      "100%|██████████| 7134/7134 [01:19<00:00, 90.26it/s]"
     ]
    },
    {
     "name": "stdout",
     "output_type": "stream",
     "text": [
      "Epoch: [38/40]\n",
      "Discriminator loss: 0.0047\n",
      "Generator loss: 12.9642\n"
     ]
    },
    {
     "name": "stderr",
     "output_type": "stream",
     "text": [
      "\n"
     ]
    },
    {
     "data": {
      "text/plain": [
       "<PIL.Image.Image image mode=L size=256x256>"
      ],
      "image/png": "[encoded data removed]",
      "image/jpeg": "[encoded data removed]"
     },
     "metadata": {},
     "output_type": "display_data"
    },
    {
     "name": "stderr",
     "output_type": "stream",
     "text": [
      "100%|██████████| 7134/7134 [01:18<00:00, 90.72it/s]"
     ]
    },
    {
     "name": "stdout",
     "output_type": "stream",
     "text": [
      "Epoch: [39/40]\n",
      "Discriminator loss: 0.0050\n",
      "Generator loss: 12.8905\n"
     ]
    },
    {
     "name": "stderr",
     "output_type": "stream",
     "text": [
      "\n"
     ]
    },
    {
     "data": {
      "text/plain": [
       "<PIL.Image.Image image mode=L size=256x256>"
      ],
      "image/png": "[encoded data removed]",
      "image/jpeg": "[encoded data removed]"
     },
     "metadata": {},
     "output_type": "display_data"
    },
    {
     "name": "stderr",
     "output_type": "stream",
     "text": [
      "100%|██████████| 7134/7134 [01:20<00:00, 88.80it/s]"
     ]
    },
    {
     "name": "stdout",
     "output_type": "stream",
     "text": [
      "Epoch: [40/40]\n",
      "Discriminator loss: 0.0057\n",
      "Generator loss: 12.8500\n"
     ]
    },
    {
     "name": "stderr",
     "output_type": "stream",
     "text": [
      "\n"
     ]
    },
    {
     "data": {
      "text/plain": [
       "<PIL.Image.Image image mode=L size=256x256>"
      ],
      "image/png": "[encoded data removed]",
      "image/jpeg": "[encoded data removed]"
     },
     "metadata": {},
     "output_type": "display_data"
    }
   ],
   "execution_count": 8
  },
  {
   "metadata": {
    "ExecuteTime": {
     "end_time": "2024-05-24T20:34:14.737884Z",
     "start_time": "2024-05-24T20:34:14.696894Z"
    }
   },
   "cell_type": "code",
   "source": [
    "for i in range(10):\n",
    "    fake_images = gbc_gan.generate_images(1)\n",
    "    images = resizer(fake_images)\n",
    "    display(images)\n",
    "    images.save(f\"after-training/{i+1}.png\")"
   ],
   "id": "a872d2a3061981a1",
   "outputs": [
    {
     "data": {
      "text/plain": [
       "<PIL.Image.Image image mode=L size=256x256>"
      ],
      "image/png": "[encoded data removed]",
      "image/jpeg": "[encoded data removed]"
     },
     "metadata": {},
     "output_type": "display_data"
    },
    {
     "data": {
      "text/plain": [
       "<PIL.Image.Image image mode=L size=256x256>"
      ],
      "image/png": "[encoded data removed]",
      "image/jpeg": "[encoded data removed]"
     },
     "metadata": {},
     "output_type": "display_data"
    },
    {
     "data": {
      "text/plain": [
       "<PIL.Image.Image image mode=L size=256x256>"
      ],
      "image/png": "[encoded data removed]",
      "image/jpeg": "[encoded data removed]"
     },
     "metadata": {},
     "output_type": "display_data"
    },
    {
     "data": {
      "text/plain": [
       "<PIL.Image.Image image mode=L size=256x256>"
      ],
      "image/png": "[encoded data removed]",
      "image/jpeg": "[encoded data removed]"
     },
     "metadata": {},
     "output_type": "display_data"
    },
    {
     "data": {
      "text/plain": [
       "<PIL.Image.Image image mode=L size=256x256>"
      ],
      "image/png": "[encoded data removed]",
      "image/jpeg": "[encoded data removed]"
     },
     "metadata": {},
     "output_type": "display_data"
    },
    {
     "data": {
      "text/plain": [
       "<PIL.Image.Image image mode=L size=256x256>"
      ],
      "image/png": "[encoded data removed]",
      "image/jpeg": "[encoded data removed]"
     },
     "metadata": {},
     "output_type": "display_data"
    },
    {
     "data": {
      "text/plain": [
       "<PIL.Image.Image image mode=L size=256x256>"
      ],
      "image/png": "[encoded data removed]",
      "image/jpeg": "[encoded data removed]"
     },
     "metadata": {},
     "output_type": "display_data"
    },
    {
     "data": {
      "text/plain": [
       "<PIL.Image.Image image mode=L size=256x256>"
      ],
      "image/png": "[encoded data removed]",
      "image/jpeg": "[encoded data removed]"
     },
     "metadata": {},
     "output_type": "display_data"
    },
    {
     "data": {
      "text/plain": [
       "<PIL.Image.Image image mode=L size=256x256>"
      ],
      "image/png": "[encoded data removed]",
      "image/jpeg": "[encoded data removed]"
     },
     "metadata": {},
     "output_type": "display_data"
    },
    {
     "data": {
      "text/plain": [
       "<PIL.Image.Image image mode=L size=256x256>"
      ],
      "image/png": "[encoded data removed]",
      "image/jpeg": "[encoded data removed]"
     },
     "metadata": {},
     "output_type": "display_data"
    }
   ],
   "execution_count": 11
  },
  {
   "metadata": {
    "ExecuteTime": {
     "end_time": "2024-05-24T20:33:16.935312Z",
     "start_time": "2024-05-24T20:33:16.930567Z"
    }
   },
   "cell_type": "code",
   "source": [
    "torch.save(gbc_gan._dis_net.state_dict(), \"discriminator_model.pth\")\n",
    "torch.save(gbc_gan._gen_net.state_dict(), \"generator_model.pth\")"
   ],
   "id": "a6e3a5a80b8dff18",
   "outputs": [],
   "execution_count": 10
  }
 ],
 "metadata": {
  "kernelspec": {
   "display_name": "Python 3",
   "language": "python",
   "name": "python3"
  },
  "language_info": {
   "codemirror_mode": {
    "name": "ipython",
    "version": 2
   },
   "file_extension": ".py",
   "mimetype": "text/x-python",
   "name": "python",
   "nbconvert_exporter": "python",
   "pygments_lexer": "ipython2",
   "version": "2.7.6"
  }
 },
 "nbformat": 4,
 "nbformat_minor": 5
}
